{
 "cells": [
  {
   "cell_type": "markdown",
   "metadata": {},
   "source": [
    "# Named Entity Recognition with pipeline() function from the 🤗 Transformers and direct approach with tokenization, applying the model and processing the results"
   ]
  },
  {
   "cell_type": "code",
   "execution_count": null,
   "metadata": {
    "colab": {
     "base_uri": "https://localhost:8080/"
    },
    "id": "nhlfE-azSUHW",
    "outputId": "d53d3dd3-670f-43bf-c4d5-b4749d8bd7ab"
   },
   "outputs": [
    {
     "name": "stdout",
     "output_type": "stream",
     "text": [
      "Looking in indexes: https://pypi.org/simple, https://us-python.pkg.dev/colab-wheels/public/simple/\n",
      "Collecting datasets\n",
      "  Downloading datasets-2.8.0-py3-none-any.whl (452 kB)\n",
      "\u001b[2K     \u001b[90m━━━━━━━━━━━━━━━━━━━━━━━━━━━━━━━━━━━━━━\u001b[0m \u001b[32m452.9/452.9 KB\u001b[0m \u001b[31m16.7 MB/s\u001b[0m eta \u001b[36m0:00:00\u001b[0m\n",
      "\u001b[?25hCollecting evaluate\n",
      "  Downloading evaluate-0.4.0-py3-none-any.whl (81 kB)\n",
      "\u001b[2K     \u001b[90m━━━━━━━━━━━━━━━━━━━━━━━━━━━━━━━━━━━━━━━━\u001b[0m \u001b[32m81.4/81.4 KB\u001b[0m \u001b[31m6.0 MB/s\u001b[0m eta \u001b[36m0:00:00\u001b[0m\n",
      "\u001b[?25hCollecting transformers[sentencepiece]\n",
      "  Downloading transformers-4.25.1-py3-none-any.whl (5.8 MB)\n",
      "\u001b[2K     \u001b[90m━━━━━━━━━━━━━━━━━━━━━━━━━━━━━━━━━━━━━━━━\u001b[0m \u001b[32m5.8/5.8 MB\u001b[0m \u001b[31m59.7 MB/s\u001b[0m eta \u001b[36m0:00:00\u001b[0m\n",
      "\u001b[?25hRequirement already satisfied: numpy>=1.17 in /usr/local/lib/python3.8/dist-packages (from datasets) (1.21.6)\n",
      "Requirement already satisfied: pandas in /usr/local/lib/python3.8/dist-packages (from datasets) (1.3.5)\n",
      "Requirement already satisfied: pyarrow>=6.0.0 in /usr/local/lib/python3.8/dist-packages (from datasets) (9.0.0)\n",
      "Collecting multiprocess\n",
      "  Downloading multiprocess-0.70.14-py38-none-any.whl (132 kB)\n",
      "\u001b[2K     \u001b[90m━━━━━━━━━━━━━━━━━━━━━━━━━━━━━━━━━━━━━━━\u001b[0m \u001b[32m132.0/132.0 KB\u001b[0m \u001b[31m6.9 MB/s\u001b[0m eta \u001b[36m0:00:00\u001b[0m\n",
      "\u001b[?25hRequirement already satisfied: packaging in /usr/local/lib/python3.8/dist-packages (from datasets) (21.3)\n",
      "Requirement already satisfied: requests>=2.19.0 in /usr/local/lib/python3.8/dist-packages (from datasets) (2.25.1)\n",
      "Collecting xxhash\n",
      "  Downloading xxhash-3.2.0-cp38-cp38-manylinux_2_17_x86_64.manylinux2014_x86_64.whl (213 kB)\n",
      "\u001b[2K     \u001b[90m━━━━━━━━━━━━━━━━━━━━━━━━━━━━━━━━━━━━━━━\u001b[0m \u001b[32m213.0/213.0 KB\u001b[0m \u001b[31m8.1 MB/s\u001b[0m eta \u001b[36m0:00:00\u001b[0m\n",
      "\u001b[?25hRequirement already satisfied: tqdm>=4.62.1 in /usr/local/lib/python3.8/dist-packages (from datasets) (4.64.1)\n",
      "Requirement already satisfied: fsspec[http]>=2021.11.1 in /usr/local/lib/python3.8/dist-packages (from datasets) (2022.11.0)\n",
      "Requirement already satisfied: aiohttp in /usr/local/lib/python3.8/dist-packages (from datasets) (3.8.3)\n",
      "Collecting responses<0.19\n",
      "  Downloading responses-0.18.0-py3-none-any.whl (38 kB)\n",
      "Requirement already satisfied: pyyaml>=5.1 in /usr/local/lib/python3.8/dist-packages (from datasets) (6.0)\n",
      "Collecting huggingface-hub<1.0.0,>=0.2.0\n",
      "  Downloading huggingface_hub-0.11.1-py3-none-any.whl (182 kB)\n",
      "\u001b[2K     \u001b[90m━━━━━━━━━━━━━━━━━━━━━━━━━━━━━━━━━━━━━━━\u001b[0m \u001b[32m182.4/182.4 KB\u001b[0m \u001b[31m9.2 MB/s\u001b[0m eta \u001b[36m0:00:00\u001b[0m\n",
      "\u001b[?25hRequirement already satisfied: dill<0.3.7 in /usr/local/lib/python3.8/dist-packages (from datasets) (0.3.6)\n",
      "Requirement already satisfied: filelock in /usr/local/lib/python3.8/dist-packages (from transformers[sentencepiece]) (3.9.0)\n",
      "Collecting tokenizers!=0.11.3,<0.14,>=0.11.1\n",
      "  Downloading tokenizers-0.13.2-cp38-cp38-manylinux_2_17_x86_64.manylinux2014_x86_64.whl (7.6 MB)\n",
      "\u001b[2K     \u001b[90m━━━━━━━━━━━━━━━━━━━━━━━━━━━━━━━━━━━━━━━━\u001b[0m \u001b[32m7.6/7.6 MB\u001b[0m \u001b[31m52.5 MB/s\u001b[0m eta \u001b[36m0:00:00\u001b[0m\n",
      "\u001b[?25hRequirement already satisfied: regex!=2019.12.17 in /usr/local/lib/python3.8/dist-packages (from transformers[sentencepiece]) (2022.6.2)\n",
      "Requirement already satisfied: protobuf<=3.20.2 in /usr/local/lib/python3.8/dist-packages (from transformers[sentencepiece]) (3.19.6)\n",
      "Collecting sentencepiece!=0.1.92,>=0.1.91\n",
      "  Downloading sentencepiece-0.1.97-cp38-cp38-manylinux_2_17_x86_64.manylinux2014_x86_64.whl (1.3 MB)\n",
      "\u001b[2K     \u001b[90m━━━━━━━━━━━━━━━━━━━━━━━━━━━━━━━━━━━━━━━━\u001b[0m \u001b[32m1.3/1.3 MB\u001b[0m \u001b[31m46.0 MB/s\u001b[0m eta \u001b[36m0:00:00\u001b[0m\n",
      "\u001b[?25hRequirement already satisfied: frozenlist>=1.1.1 in /usr/local/lib/python3.8/dist-packages (from aiohttp->datasets) (1.3.3)\n",
      "Requirement already satisfied: attrs>=17.3.0 in /usr/local/lib/python3.8/dist-packages (from aiohttp->datasets) (22.2.0)\n",
      "Requirement already satisfied: async-timeout<5.0,>=4.0.0a3 in /usr/local/lib/python3.8/dist-packages (from aiohttp->datasets) (4.0.2)\n",
      "Requirement already satisfied: multidict<7.0,>=4.5 in /usr/local/lib/python3.8/dist-packages (from aiohttp->datasets) (6.0.4)\n",
      "Requirement already satisfied: charset-normalizer<3.0,>=2.0 in /usr/local/lib/python3.8/dist-packages (from aiohttp->datasets) (2.1.1)\n",
      "Requirement already satisfied: yarl<2.0,>=1.0 in /usr/local/lib/python3.8/dist-packages (from aiohttp->datasets) (1.8.2)\n",
      "Requirement already satisfied: aiosignal>=1.1.2 in /usr/local/lib/python3.8/dist-packages (from aiohttp->datasets) (1.3.1)\n",
      "Requirement already satisfied: typing-extensions>=3.7.4.3 in /usr/local/lib/python3.8/dist-packages (from huggingface-hub<1.0.0,>=0.2.0->datasets) (4.4.0)\n",
      "Requirement already satisfied: pyparsing!=3.0.5,>=2.0.2 in /usr/local/lib/python3.8/dist-packages (from packaging->datasets) (3.0.9)\n",
      "Requirement already satisfied: certifi>=2017.4.17 in /usr/local/lib/python3.8/dist-packages (from requests>=2.19.0->datasets) (2022.12.7)\n",
      "Requirement already satisfied: idna<3,>=2.5 in /usr/local/lib/python3.8/dist-packages (from requests>=2.19.0->datasets) (2.10)\n",
      "Requirement already satisfied: urllib3<1.27,>=1.21.1 in /usr/local/lib/python3.8/dist-packages (from requests>=2.19.0->datasets) (1.24.3)\n",
      "Requirement already satisfied: chardet<5,>=3.0.2 in /usr/local/lib/python3.8/dist-packages (from requests>=2.19.0->datasets) (4.0.0)\n",
      "Collecting urllib3<1.27,>=1.21.1\n",
      "  Downloading urllib3-1.26.14-py2.py3-none-any.whl (140 kB)\n",
      "\u001b[2K     \u001b[90m━━━━━━━━━━━━━━━━━━━━━━━━━━━━━━━━━━━━━━\u001b[0m \u001b[32m140.6/140.6 KB\u001b[0m \u001b[31m12.4 MB/s\u001b[0m eta \u001b[36m0:00:00\u001b[0m\n",
      "\u001b[?25hRequirement already satisfied: python-dateutil>=2.7.3 in /usr/local/lib/python3.8/dist-packages (from pandas->datasets) (2.8.2)\n",
      "Requirement already satisfied: pytz>=2017.3 in /usr/local/lib/python3.8/dist-packages (from pandas->datasets) (2022.7)\n",
      "Requirement already satisfied: six>=1.5 in /usr/local/lib/python3.8/dist-packages (from python-dateutil>=2.7.3->pandas->datasets) (1.15.0)\n",
      "Installing collected packages: tokenizers, sentencepiece, xxhash, urllib3, multiprocess, responses, huggingface-hub, transformers, datasets, evaluate\n",
      "  Attempting uninstall: urllib3\n",
      "    Found existing installation: urllib3 1.24.3\n",
      "    Uninstalling urllib3-1.24.3:\n",
      "      Successfully uninstalled urllib3-1.24.3\n",
      "Successfully installed datasets-2.8.0 evaluate-0.4.0 huggingface-hub-0.11.1 multiprocess-0.70.14 responses-0.18.0 sentencepiece-0.1.97 tokenizers-0.13.2 transformers-4.25.1 urllib3-1.26.14 xxhash-3.2.0\n"
     ]
    }
   ],
   "source": [
    "!pip install datasets evaluate transformers[sentencepiece]"
   ]
  },
  {
   "cell_type": "markdown",
   "metadata": {
    "id": "j6Qph03Uba6p"
   },
   "source": [
    " ## Batch encoding"
   ]
  },
  {
   "cell_type": "markdown",
   "metadata": {
    "id": "YELgZrvKC5w_"
   },
   "source": [
    "The output of the tokenizer is not a simple Python dictionary; we actually get a special BatchEncoding object. This is a subclass of Dictionary, but with additional methods that are mainly used by fast tokenizers.\n",
    "\n",
    "In addition to parallelization capabilities, a key functionality of fast tokenizers is that they always keep track of the original range of texts from which the final tokens are drawn - a feature we call *offset mapping*. This in turn gives access to functions such as mapping each word to the tokens it generates, or mapping each character of the source text to the token contained within, and vice versa."
   ]
  },
  {
   "cell_type": "markdown",
   "metadata": {},
   "source": [
    "Consider an example:"
   ]
  },
  {
   "cell_type": "code",
   "execution_count": null,
   "metadata": {
    "colab": {
     "base_uri": "https://localhost:8080/",
     "height": 145,
     "referenced_widgets": [
      "6590ffdf0c83401c87e017401e272230",
      "c8420879bdef482ea3570ae33a526ea8",
      "f9d572d970ba49299c0df59c40e29548",
      "fab0fa0eabcd478c9e1f34fd5abc49da",
      "ee15a8dddbce4425b6c2e0cbaa84a3fd",
      "23c3eafe63e446059c3b1026c170f04f",
      "ae6f3be96f5248298d36cc0b439b82e7",
      "b9ff69bbc3c643bc9746edf487345645",
      "3125cfae85d849c6b877de826abb48e1",
      "771f1304c44e406c98e97d49a94627f2",
      "d466dd58c08e4210b03d44828a7512cc",
      "0eb9cac9910b491db5abf2087a4939f1",
      "2af13b9d903c457f9364bcc6567e6f78",
      "5b5f42f00bf44d639aa968dd8f0cc5a4",
      "d3f5a1c4276b4d20beb2649cf2ab8d5a",
      "b9cfeea7e6274ba3bd0a5609d932df5d",
      "ea53bd27aaa249dfb75dbbddc99c8c13",
      "5e07346c1a97488da2eee8d46598e1e5",
      "e89fc3918de34552bde59e7ab8ff41aa",
      "25a65a377a24489c85cfa3faae3dad60",
      "34e5144fa2494bb39a8d2345b89bcdb2",
      "1f345b1866a4480da6ac1b94612ddc0d",
      "c1cb0e3e4da74d51b5ff19e10308c0da",
      "b2e9bf63e057443782944cd423a7251a",
      "98527ffe64364f908a2c31129b8f9a83",
      "ad2f308bec63417280c2c3eb594d3de8",
      "00ce4176801e41f1b48fc852aee6b34a",
      "91a2953aa0674db4aedd64a1f9490372",
      "d145d7e6bc0c45f68d21562a07a92dad",
      "ee4fc0b2cbd74cc78cbaa6951ba4f843",
      "f845f8eabb9d4b059a9af0d513e03798",
      "d5b250598f7b41f9b91192d4fd447d6b",
      "60c78bccde554fe19523e10070b4c5f0",
      "3bf9a1f23fd443eab9d7934debfe9859",
      "e21a90eb7767496e8279607e703610b1",
      "da10dd28b0c7449da18c87e87cbf4df5",
      "cc3173893c2140ceb7ce7f7d544ed915",
      "d67ca32e8f534ae8822fde92923bdaab",
      "831b9745569c4ea8997cde66e5808bc2",
      "647925c5c7fb4c6198c0f3c63bf9ba46",
      "8c3e885892c4493d9970afdc115508a0",
      "173aaa971b1840e8b793ddc50d044bbc",
      "add3f85179c9445586d5f2876610d8f7",
      "5b4de2255eb9470eb89e63cb94078f8a"
     ]
    },
    "id": "jGO-oaHObi4Z",
    "outputId": "feb11ee5-30e0-4f30-9dd5-43c129114211"
   },
   "outputs": [
    {
     "data": {
      "application/vnd.jupyter.widget-view+json": {
       "model_id": "6590ffdf0c83401c87e017401e272230",
       "version_major": 2,
       "version_minor": 0
      },
      "text/plain": [
       "Downloading:   0%|          | 0.00/29.0 [00:00<?, ?B/s]"
      ]
     },
     "metadata": {},
     "output_type": "display_data"
    },
    {
     "data": {
      "application/vnd.jupyter.widget-view+json": {
       "model_id": "0eb9cac9910b491db5abf2087a4939f1",
       "version_major": 2,
       "version_minor": 0
      },
      "text/plain": [
       "Downloading:   0%|          | 0.00/570 [00:00<?, ?B/s]"
      ]
     },
     "metadata": {},
     "output_type": "display_data"
    },
    {
     "data": {
      "application/vnd.jupyter.widget-view+json": {
       "model_id": "c1cb0e3e4da74d51b5ff19e10308c0da",
       "version_major": 2,
       "version_minor": 0
      },
      "text/plain": [
       "Downloading:   0%|          | 0.00/213k [00:00<?, ?B/s]"
      ]
     },
     "metadata": {},
     "output_type": "display_data"
    },
    {
     "data": {
      "application/vnd.jupyter.widget-view+json": {
       "model_id": "3bf9a1f23fd443eab9d7934debfe9859",
       "version_major": 2,
       "version_minor": 0
      },
      "text/plain": [
       "Downloading:   0%|          | 0.00/436k [00:00<?, ?B/s]"
      ]
     },
     "metadata": {},
     "output_type": "display_data"
    }
   ],
   "source": [
    "from transformers import AutoTokenizer\n",
    "\n",
    "model_checkpoint = \"bert-base-cased\"\n",
    "tokenizer = AutoTokenizer.from_pretrained(model_checkpoint)"
   ]
  },
  {
   "cell_type": "markdown",
   "metadata": {
    "id": "x3CVUJG2EIGX"
   },
   "source": [
    "As mentioned earlier, we get a BatchEncoding object in the tokenizer output:"
   ]
  },
  {
   "cell_type": "code",
   "execution_count": null,
   "metadata": {
    "colab": {
     "base_uri": "https://localhost:8080/"
    },
    "id": "e5me7nYKEQXk",
    "outputId": "784d22dc-6d95-4f20-d0db-4f3d48510273"
   },
   "outputs": [
    {
     "name": "stdout",
     "output_type": "stream",
     "text": [
      "{'input_ids': [101, 146, 1567, 148, 23203, 146, 10719, 1592, 1105, 1139, 1271, 1110, 141, 4527, 8005, 119, 102], 'token_type_ids': [0, 0, 0, 0, 0, 0, 0, 0, 0, 0, 0, 0, 0, 0, 0, 0, 0], 'attention_mask': [1, 1, 1, 1, 1, 1, 1, 1, 1, 1, 1, 1, 1, 1, 1, 1, 1]}\n"
     ]
    }
   ],
   "source": [
    "example = \"I love KPI IASA and my name is Dmytro.\"\n",
    "encoding = tokenizer(example)\n",
    "print(type(encoding))"
   ]
  },
  {
   "cell_type": "markdown",
   "metadata": {
    "id": "t5aI9PnFEi1z"
   },
   "source": [
    "Since the AutoTokenizer class chooses a fast tokenizer by default, we can use the additional methods provided by this BatchEncoding object. We have two ways to test if our tokenizer is fast or slow. We can check the is_fast attribute of the tokenizer:"
   ]
  },
  {
   "cell_type": "code",
   "execution_count": null,
   "metadata": {
    "colab": {
     "base_uri": "https://localhost:8080/"
    },
    "id": "rjFP3SWqhaOH",
    "outputId": "decf45d7-29a1-4c94-e9df-92606e4858ca"
   },
   "outputs": [
    {
     "data": {
      "text/plain": [
       "True"
      ]
     },
     "execution_count": 4,
     "metadata": {},
     "output_type": "execute_result"
    }
   ],
   "source": [
    "tokenizer.is_fast"
   ]
  },
  {
   "cell_type": "markdown",
   "metadata": {
    "id": "kJyP-vG6Exba"
   },
   "source": [
    "or check the same attribute in our coding:"
   ]
  },
  {
   "cell_type": "code",
   "execution_count": null,
   "metadata": {
    "colab": {
     "base_uri": "https://localhost:8080/"
    },
    "id": "BQrz1jw0EzAh",
    "outputId": "7ed24248-e55c-4021-c4b4-768abc82f6d2"
   },
   "outputs": [
    {
     "data": {
      "text/plain": [
       "True"
      ]
     },
     "execution_count": 5,
     "metadata": {},
     "output_type": "execute_result"
    }
   ],
   "source": [
    "encoding.is_fast"
   ]
  },
  {
   "cell_type": "markdown",
   "metadata": {
    "id": "HjSFlXqMFHXR"
   },
   "source": [
    "Let's see what the quick tokenizer allows us to do. First, we can access tokens without having to convert IDs back to tokens:"
   ]
  },
  {
   "cell_type": "code",
   "execution_count": null,
   "metadata": {
    "colab": {
     "base_uri": "https://localhost:8080/"
    },
    "id": "9QILNQo6hdp-",
    "outputId": "130c1236-15ec-425c-efb0-7fc036afe48d"
   },
   "outputs": [
    {
     "data": {
      "text/plain": [
       "['[CLS]',\n",
       " 'I',\n",
       " 'love',\n",
       " 'K',\n",
       " '##PI',\n",
       " 'I',\n",
       " '##AS',\n",
       " '##A',\n",
       " 'and',\n",
       " 'my',\n",
       " 'name',\n",
       " 'is',\n",
       " 'D',\n",
       " '##my',\n",
       " '##tro',\n",
       " '.',\n",
       " '[SEP]']"
      ]
     },
     "execution_count": 6,
     "metadata": {},
     "output_type": "execute_result"
    }
   ],
   "source": [
    "encoding.tokens()"
   ]
  },
  {
   "cell_type": "markdown",
   "metadata": {
    "id": "Uu6iChQiFjyh"
   },
   "source": [
    "In this case, the token under index 2 is ##PI, which is part of the abbreviation \"KPI\" in the original sentence. We can also use the word_ids() method to get the index of the word that each token comes from:"
   ]
  },
  {
   "cell_type": "code",
   "execution_count": null,
   "metadata": {
    "colab": {
     "base_uri": "https://localhost:8080/"
    },
    "id": "64W1EtTzhjqJ",
    "outputId": "69be0b9f-b91b-47b0-f5cf-139b35de09ff"
   },
   "outputs": [
    {
     "data": {
      "text/plain": [
       "[None, 0, 1, 2, 2, 3, 3, 3, 4, 5, 6, 7, 8, 8, 8, 9, None]"
      ]
     },
     "execution_count": 7,
     "metadata": {},
     "output_type": "execute_result"
    }
   ],
   "source": [
    "encoding.word_ids()"
   ]
  },
  {
   "cell_type": "markdown",
   "metadata": {
    "id": "9dyAVoBGGj_R"
   },
   "source": [
    "We can see that the tokenizer's [CLS] and [SEP] special tokens are mapped to None, and then each token is mapped to the word it comes from. This is especially useful for determining whether a token is at the beginning of a word or whether two tokens are in the same word. We could rely on the ## prefix for this, but that only works for BERT-like tokenizers; this method works for any type of tokenizer as long as it is fast. Next, we'll see how we can use this capability to properly apply the labels we have for each word to the tokens in named object recognition (NER) tasks.\n",
    "\n",
    "Similarly, there is a sentence_ids() method that we can use to match a token to the sentence it comes from (although in this case the token_type_ids returned by the tokenizer can give us the same information).\n",
    "\n",
    "Finally, we can map any word or token to characters in the original text and vice versa using the word_to_chars() or token_to_chars() and char_to_word() or char_to_token() methods. For example, the word_ids() method told us that ##yl is part of the word at index 3, but what is that word in the sentence? We can find out like this:"
   ]
  },
  {
   "cell_type": "code",
   "execution_count": null,
   "metadata": {
    "colab": {
     "base_uri": "https://localhost:8080/",
     "height": 35
    },
    "id": "pXoJOXNeMcGi",
    "outputId": "04f32665-fd3b-4d92-f92b-0f65c2e5df5d"
   },
   "outputs": [
    {
     "data": {
      "application/vnd.google.colaboratory.intrinsic+json": {
       "type": "string"
      },
      "text/plain": [
       "'KPI'"
      ]
     },
     "execution_count": 8,
     "metadata": {},
     "output_type": "execute_result"
    }
   ],
   "source": [
    "start, end = encoding.word_to_chars(2)\n",
    "example[start:end]"
   ]
  },
  {
   "cell_type": "markdown",
   "metadata": {
    "id": "Qz2JfBLcPNYO"
   },
   "source": [
    "As we mentioned earlier, this is all due to the fact that the fast tokenizer keeps track of the span of text each token comes from in the shift list. To illustrate their use, we next show you how to reproduce the results of the token classification pipeline manually."
   ]
  },
  {
   "cell_type": "markdown",
   "metadata": {
    "id": "KNrfmhz91Wc4"
   },
   "source": [
    " ## Inside the token-classification pipeline"
   ]
  },
  {
   "cell_type": "markdown",
   "metadata": {
    "id": "cEhZYWHxQajH"
   },
   "source": [
    "We tried to apply NER using the function 🤗 Transformers pipeline(). Next, we saw how the pipeline combines the three steps required to derive predictions from raw text: tokenization, passing the input through the model, and post-processing. The first two steps in the Token Classification pipeline are the same as any other pipeline, but the post-processing is a bit more complicated - let's take a look!"
   ]
  },
  {
   "cell_type": "markdown",
   "metadata": {
    "id": "_9k5Ij6q6LlC"
   },
   "source": [
    "![full_nlp_pipeline.svg](data:image/svg+xml;base64,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)"
   ]
  },
  {
   "cell_type": "markdown",
   "metadata": {
    "id": "5Rgorr9_TmL6"
   },
   "source": [
    "### Getting the base results with the pipeline"
   ]
  },
  {
   "cell_type": "markdown",
   "metadata": {
    "id": "SDIY-hLLT6Qi"
   },
   "source": [
    "First, let's grab the token classification pipeline so we can get some results to compare manually. The default model used is dbmdz/bert-large-cased-finetuned-conll03-english; it performs NER on the sentences:"
   ]
  },
  {
   "cell_type": "code",
   "execution_count": null,
   "metadata": {
    "colab": {
     "base_uri": "https://localhost:8080/"
    },
    "id": "tyF9xsbL1V8a",
    "outputId": "41d18e90-b3b3-4918-ef65-9484b9112e7b"
   },
   "outputs": [
    {
     "name": "stderr",
     "output_type": "stream",
     "text": [
      "No model was supplied, defaulted to dbmdz/bert-large-cased-finetuned-conll03-english and revision f2482bf (https://huggingface.co/dbmdz/bert-large-cased-finetuned-conll03-english).\n",
      "Using a pipeline without specifying a model name and revision in production is not recommended.\n"
     ]
    },
    {
     "data": {
      "text/plain": [
       "[{'entity_group': 'ORG',\n",
       "  'score': 0.99054736,\n",
       "  'word': 'KPI IASA',\n",
       "  'start': 7,\n",
       "  'end': 15},\n",
       " {'entity_group': 'PER',\n",
       "  'score': 0.99773145,\n",
       "  'word': 'Dmytro',\n",
       "  'start': 31,\n",
       "  'end': 37}]"
      ]
     },
     "execution_count": 29,
     "metadata": {},
     "output_type": "execute_result"
    }
   ],
   "source": [
    "from transformers import pipeline\n",
    "\n",
    "token_classifier = pipeline(\"token-classification\", aggregation_strategy=\"simple\")\n",
    "token_classifier(\"I love KPI IASA and my name is Dmytro.\")"
   ]
  },
  {
   "cell_type": "markdown",
   "metadata": {
    "id": "ihiuZP2fUJge"
   },
   "source": [
    "The model properly identified each token generated by \"KPI IASA\" as an organization, each token generated by \"Dmytro\" as an individual. We can also ask the pipeline to group tokens that correspond to the same entity:"
   ]
  },
  {
   "cell_type": "markdown",
   "metadata": {
    "id": "4u4VonXUVZ_n"
   },
   "source": [
    "The selected aggregation_strategy will change the scores calculated for each aggregated entity. For \"simple\", the score is just the average of the scores of each token in the given entity: for example, the \"KPI IASA\" score is the average of the scores we saw in the previous example for the tokens K, ##PI , I, ##AS and # #A. Other available strategies are:\n",
    "\n",
    "\n",
    "* \"first\", where the score of each entity is the score of the first token of that entity (so for \"KPI IASA\" it would be 0.9960531, token score K)\n",
    "* \"max\", where the score of each entity is the maximum score of the token in that entity (so for \"KPI IASA\" it will be 0.9960531, the score of the same token K)\n",
    "* \"average\", where the score of each entity is the average score of the words that make up this entity (so for \"Dmytro\" there would be no differences from the \"simple\" strategy, but \"KPI IASA\" will have a score of 0.9912031, the average value for \"KPI\" is 0.9944813 and \"IASA\" — 0.9879248)\n",
    "\n",
    "\n",
    "Now let's see how to get these results without using the pipeline() function!"
   ]
  },
  {
   "cell_type": "markdown",
   "metadata": {
    "id": "cVpbnWI2cMdF"
   },
   "source": [
    "### From inputs to predictions"
   ]
  },
  {
   "cell_type": "markdown",
   "metadata": {
    "id": "KW-U5bf3cqDe"
   },
   "source": [
    "First we need to tokenize our input and pass it through the model. We instantiate the tokenizer and model using the AutoXxx classes and then use them in our example:"
   ]
  },
  {
   "cell_type": "code",
   "execution_count": null,
   "metadata": {
    "colab": {
     "base_uri": "https://localhost:8080/"
    },
    "id": "-8zP5xHQ4q-2",
    "outputId": "1dd2327a-ec68-4c62-cf44-4ad95b700144"
   },
   "outputs": [
    {
     "name": "stdout",
     "output_type": "stream",
     "text": [
      "{'input_ids': tensor([[  101,   146,  1567,   148, 23203,   146, 10719,  1592,  1105,  1139,\n",
      "          1271,  1110,   141,  4527,  8005,   119,   102]]), 'token_type_ids': tensor([[0, 0, 0, 0, 0, 0, 0, 0, 0, 0, 0, 0, 0, 0, 0, 0, 0]]), 'attention_mask': tensor([[1, 1, 1, 1, 1, 1, 1, 1, 1, 1, 1, 1, 1, 1, 1, 1, 1]])}\n"
     ]
    }
   ],
   "source": [
    "from transformers import AutoTokenizer, AutoModelForTokenClassification\n",
    "\n",
    "model_checkpoint = \"dbmdz/bert-large-cased-finetuned-conll03-english\"\n",
    "tokenizer = AutoTokenizer.from_pretrained(model_checkpoint)\n",
    "model = AutoModelForTokenClassification.from_pretrained(model_checkpoint)\n",
    "\n",
    "example = \"I love KPI IASA and my name is Dmytro.\""
   ]
  },
  {
   "cell_type": "code",
   "execution_count": null,
   "metadata": {
    "colab": {
     "base_uri": "https://localhost:8080/"
    },
    "id": "YHAttA3EZaQ3",
    "outputId": "6133a33d-d02e-4bec-8b03-ab4253af3406"
   },
   "outputs": [
    {
     "name": "stdout",
     "output_type": "stream",
     "text": [
      "['I', 'love', 'K', '##PI', 'I', '##AS', '##A', 'and', 'my', 'name', 'is', 'D', '##my', '##tro', '.']\n"
     ]
    }
   ],
   "source": [
    "tokens = tokenizer.tokenize(example)\n",
    "print(tokens)"
   ]
  },
  {
   "cell_type": "code",
   "execution_count": null,
   "metadata": {
    "id": "u5nkFW5TZX4L"
   },
   "outputs": [],
   "source": [
    "inputs = tokenizer(example, return_tensors=\"pt\")\n",
    "print(\"Input IDs:\", inputs)"
   ]
  },
  {
   "cell_type": "code",
   "execution_count": null,
   "metadata": {
    "colab": {
     "base_uri": "https://localhost:8080/"
    },
    "id": "l5SzfIfAwXl0",
    "outputId": "86055782-d528-4a9e-cc4e-73bca7d92741"
   },
   "outputs": [
    {
     "name": "stdout",
     "output_type": "stream",
     "text": [
      "tensor([[[ 8.5987, -2.2723, -1.7703, -1.8164, -1.0974, -1.7894, -0.0731,\n",
      "          -1.9788,  0.4751],\n",
      "         [10.2989, -2.3537, -1.3576, -2.5748, -0.3721, -2.2373,  0.3227,\n",
      "          -2.2982, -0.4618],\n",
      "         [10.1152, -2.0770, -1.0784, -2.7295, -1.0400, -1.9658,  1.1737,\n",
      "          -2.1848, -0.5156],\n",
      "         [ 0.5800, -2.6068, -1.2598, -3.0422, -1.1074, -0.5813,  7.1818,\n",
      "          -1.9558,  0.6878],\n",
      "         [ 1.3509, -2.7273, -1.4815, -3.0313, -1.3565, -0.7153,  6.9782,\n",
      "          -2.1722,  0.9556],\n",
      "         [ 0.7015, -2.4438, -1.3839, -3.1034, -1.3865,  0.0136,  6.6990,\n",
      "          -1.8907,  0.9896],\n",
      "         [ 1.2606, -2.4662, -0.9454, -2.8025, -1.6704, -0.2027,  6.0982,\n",
      "          -1.8591,  1.1760],\n",
      "         [ 1.3620, -2.5348, -1.1794, -2.6840, -1.2094, -0.6736,  6.5684,\n",
      "          -2.1349,  0.4874],\n",
      "         [10.5169, -2.4071, -1.4378, -2.4828, -1.3460, -1.7373,  0.3820,\n",
      "          -1.9807, -0.4918],\n",
      "         [10.6922, -2.3155, -1.2691, -2.5498, -0.6087, -2.0638,  0.1229,\n",
      "          -2.0612, -0.9465],\n",
      "         [10.6467, -2.2464, -0.8381, -2.5498, -0.6771, -2.1251, -0.3761,\n",
      "          -1.8406, -0.5271],\n",
      "         [10.9820, -2.2303, -1.2889, -2.3565, -1.0458, -1.9178, -0.1872,\n",
      "          -1.8135, -0.6706],\n",
      "         [-0.1653, -1.9734, -0.3350, -2.6900,  7.8024, -2.5065, -0.7043,\n",
      "          -2.1000, -0.0430],\n",
      "         [ 0.4302, -2.4217, -0.6557, -3.1278,  6.9133, -2.2530, -0.2354,\n",
      "          -2.1749, -0.6085],\n",
      "         [ 0.1482, -2.1572, -0.7335, -2.8429,  7.5645, -2.2154, -0.8750,\n",
      "          -2.7783, -0.1278],\n",
      "         [ 8.5987, -2.2723, -1.7703, -1.8164, -1.0974, -1.7894, -0.0731,\n",
      "          -1.9788,  0.4751],\n",
      "         [ 8.5987, -2.2723, -1.7703, -1.8164, -1.0974, -1.7894, -0.0731,\n",
      "          -1.9788,  0.4751]]], grad_fn=<ViewBackward0>)\n"
     ]
    }
   ],
   "source": [
    "outputs = model(**inputs)\n",
    "print(outputs.logits)"
   ]
  },
  {
   "cell_type": "markdown",
   "metadata": {
    "id": "uXIkHuigdIcf"
   },
   "source": [
    "Since we use AutoModelForTokenClassification, we get one set of logits for each token in the input sequence:"
   ]
  },
  {
   "cell_type": "code",
   "execution_count": null,
   "metadata": {
    "colab": {
     "base_uri": "https://localhost:8080/"
    },
    "id": "MstlLXAd5jBG",
    "outputId": "f712cc6e-9a36-4eb2-c15b-6005d54e55d6"
   },
   "outputs": [
    {
     "name": "stdout",
     "output_type": "stream",
     "text": [
      "torch.Size([1, 17])\n",
      "torch.Size([1, 17, 9])\n"
     ]
    }
   ],
   "source": [
    "print(inputs[\"input_ids\"].shape)\n",
    "print(outputs.logits.shape)"
   ]
  },
  {
   "cell_type": "markdown",
   "metadata": {
    "id": "5qVxiHdmeZL0"
   },
   "source": [
    "We have a batch with 1 sequence of 17 tokens, and the model has 9 different labels, so the output of the model is of the form 1 x 17 x 9. As with the text classification pipeline, we use the softmax function to transform these logits. to probabilities, and we take argmax to get predictions (note that we can take argmax for logits, since softmax does not change the order):"
   ]
  },
  {
   "cell_type": "code",
   "execution_count": null,
   "metadata": {
    "colab": {
     "base_uri": "https://localhost:8080/"
    },
    "id": "JAcY5fFg6QUP",
    "outputId": "cc7319a2-c164-405d-fbbf-cdcc0b131ee7"
   },
   "outputs": [
    {
     "name": "stdout",
     "output_type": "stream",
     "text": [
      "tensor([[9.9933e-01, 1.8989e-05, 3.1371e-05, 2.9956e-05, 6.1482e-05, 3.0776e-05,\n",
      "         1.7124e-04, 2.5466e-05, 2.9627e-04],\n",
      "        [9.9989e-01, 3.1987e-06, 8.6612e-06, 2.5642e-06, 2.3205e-05, 3.5938e-06,\n",
      "         4.6488e-05, 3.3815e-06, 2.1214e-05],\n",
      "        [9.9980e-01, 5.0690e-06, 1.3759e-05, 2.6395e-06, 1.4298e-05, 5.6648e-06,\n",
      "         1.3082e-04, 4.5509e-06, 2.4155e-05],\n",
      "        [1.3527e-03, 5.5867e-05, 2.1487e-04, 3.6148e-05, 2.5024e-04, 4.2345e-04,\n",
      "         9.9605e-01, 1.0713e-04, 1.5065e-03],\n",
      "        [3.5727e-03, 6.0511e-05, 2.1032e-04, 4.4648e-05, 2.3833e-04, 4.5252e-04,\n",
      "         9.9291e-01, 1.0542e-04, 2.4060e-03],\n",
      "        [2.4650e-03, 1.0614e-04, 3.0631e-04, 5.4875e-05, 3.0550e-04, 1.2391e-03,\n",
      "         9.9205e-01, 1.8452e-04, 3.2882e-03],\n",
      "        [7.7783e-03, 1.8723e-04, 8.5672e-04, 1.3375e-04, 4.1494e-04, 1.8004e-03,\n",
      "         9.8134e-01, 3.4356e-04, 7.1471e-03],\n",
      "        [5.4289e-03, 1.1024e-04, 4.2754e-04, 9.4965e-05, 4.1493e-04, 7.0905e-04,\n",
      "         9.9039e-01, 1.6445e-04, 2.2640e-03],\n",
      "        [9.9992e-01, 2.4385e-06, 6.4285e-06, 2.2607e-06, 7.0464e-06, 4.7646e-06,\n",
      "         3.9666e-05, 3.7351e-06, 1.6555e-05],\n",
      "        [9.9994e-01, 2.2429e-06, 6.3865e-06, 1.7744e-06, 1.2362e-05, 2.8848e-06,\n",
      "         2.5693e-05, 2.8924e-06, 8.8175e-06],\n",
      "        [9.9994e-01, 2.5152e-06, 1.0285e-05, 1.8571e-06, 1.2082e-05, 2.8396e-06,\n",
      "         1.6324e-05, 3.7740e-06, 1.4037e-05],\n",
      "        [9.9996e-01, 1.8279e-06, 4.6862e-06, 1.6113e-06, 5.9757e-06, 2.4986e-06,\n",
      "         1.4102e-05, 2.7731e-06, 8.6966e-06],\n",
      "        [3.4599e-04, 5.6735e-05, 2.9200e-04, 2.7709e-05, 9.9860e-01, 3.3290e-05,\n",
      "         2.0183e-04, 4.9987e-05, 3.9100e-04],\n",
      "        [1.5234e-03, 8.7952e-05, 5.1430e-04, 4.3412e-05, 9.9629e-01, 1.0412e-04,\n",
      "         7.8300e-04, 1.1258e-04, 5.3915e-04],\n",
      "        [6.0035e-04, 5.9865e-05, 2.4857e-04, 3.0157e-05, 9.9830e-01, 5.6478e-05,\n",
      "         2.1578e-04, 3.2167e-05, 4.5553e-04],\n",
      "        [9.9933e-01, 1.8990e-05, 3.1372e-05, 2.9957e-05, 6.1484e-05, 3.0777e-05,\n",
      "         1.7124e-04, 2.5467e-05, 2.9627e-04],\n",
      "        [9.9933e-01, 1.8989e-05, 3.1371e-05, 2.9956e-05, 6.1481e-05, 3.0776e-05,\n",
      "         1.7124e-04, 2.5466e-05, 2.9627e-04]], grad_fn=<SelectBackward0>)\n"
     ]
    }
   ],
   "source": [
    "import torch\n",
    "\n",
    "probabilities = torch.nn.functional.softmax(outputs.logits, dim=-1)[0].tolist()\n",
    "print(probabilities)"
   ]
  },
  {
   "cell_type": "code",
   "execution_count": null,
   "metadata": {
    "colab": {
     "base_uri": "https://localhost:8080/"
    },
    "id": "gGoFKqrqwS_Y",
    "outputId": "dc1b156f-92c5-401f-8cf2-af6229e27b85"
   },
   "outputs": [
    {
     "name": "stdout",
     "output_type": "stream",
     "text": [
      "[0, 0, 0, 6, 6, 6, 6, 6, 0, 0, 0, 0, 4, 4, 4, 0, 0]\n"
     ]
    }
   ],
   "source": [
    "predictions = outputs.logits.argmax(dim=-1)[0].tolist()\n",
    "print(predictions)"
   ]
  },
  {
   "cell_type": "markdown",
   "metadata": {
    "id": "ciFkKEBlfBeS"
   },
   "source": [
    "The *attribute* model.config.id2label contains a mapping of indices to labels that we can use to understand predictions:"
   ]
  },
  {
   "cell_type": "code",
   "execution_count": null,
   "metadata": {
    "colab": {
     "base_uri": "https://localhost:8080/"
    },
    "id": "ROu58L-M6s6W",
    "outputId": "9d2d3ff5-d5d1-4d04-de54-ab49bd49ec51"
   },
   "outputs": [
    {
     "data": {
      "text/plain": [
       "{0: 'O',\n",
       " 1: 'B-MISC',\n",
       " 2: 'I-MISC',\n",
       " 3: 'B-PER',\n",
       " 4: 'I-PER',\n",
       " 5: 'B-ORG',\n",
       " 6: 'I-ORG',\n",
       " 7: 'B-LOC',\n",
       " 8: 'I-LOC'}"
      ]
     },
     "execution_count": 14,
     "metadata": {},
     "output_type": "execute_result"
    }
   ],
   "source": [
    "model.config.id2label"
   ]
  },
  {
   "cell_type": "markdown",
   "metadata": {
    "id": "H7fxL8Dlfqkv"
   },
   "source": [
    "As we saw earlier, there are 9 labels: O is the label for tokens that are not in any named entity (it means \"outside\"), and we have two labels for each type of entity (miscellaneous, person, organization, and location). The label B-XXX indicates that the marker is at the beginning of entity XXX, and the label I-XXX indicates that the marker is inside entity XXX. For example, in the current example, we expect our model to classify token D as B-PER (beginning of person entity) and tokens ##my and ##tro as I-PER (inside person entity).\n",
    "\n",
    "We might think that the model was wrong in this case because it gave the label I-PER to all three of these markers, but this is not the case. There are actually two formats for these B- and I-labels: IOB1 and IOB2. The IOB2 format (pink below) is the one we introduced, while the IOB1 format (blue) uses labels starting with B- only to separate two adjacent entities of the same type. The model we use has been configured on a dataset using this format, so it assigns the I-PER label to the S marker."
   ]
  },
  {
   "cell_type": "markdown",
   "metadata": {
    "id": "WpSmSVGHn7mB"
   },
   "source": [
    "![IOB_versions.svg](data:image/svg+xml;base64,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)"
   ]
  },
  {
   "cell_type": "markdown",
   "metadata": {
    "id": "zUQLWOClo-VH"
   },
   "source": [
    "We're ready to reproduce (almost completely) the results of the first pipeline—we can simply get the score and label of each token that wasn't classified as O:"
   ]
  },
  {
   "cell_type": "code",
   "execution_count": null,
   "metadata": {
    "colab": {
     "base_uri": "https://localhost:8080/"
    },
    "id": "XfRubhWT661P",
    "outputId": "3811e648-903a-4a3b-c5eb-b47cc1f2b985"
   },
   "outputs": [
    {
     "name": "stdout",
     "output_type": "stream",
     "text": [
      "[{'entity': 'I-ORG', 'score': 0.9960530996322632, 'word': 'K'}, {'entity': 'I-ORG', 'score': 0.9929094910621643, 'word': '##PI'}, {'entity': 'I-ORG', 'score': 0.9920504689216614, 'word': 'I'}, {'entity': 'I-ORG', 'score': 0.9813381433486938, 'word': '##AS'}, {'entity': 'I-ORG', 'score': 0.9903860092163086, 'word': '##A'}, {'entity': 'I-PER', 'score': 0.998601496219635, 'word': 'D'}, {'entity': 'I-PER', 'score': 0.9962921142578125, 'word': '##my'}, {'entity': 'I-PER', 'score': 0.9983012080192566, 'word': '##tro'}]\n"
     ]
    }
   ],
   "source": [
    "results = []\n",
    "tokens = inputs.tokens()\n",
    "\n",
    "for idx, pred in enumerate(predictions):\n",
    "    label = model.config.id2label[pred]\n",
    "    if label != \"O\":\n",
    "        results.append(\n",
    "            {\"entity\": label, \"score\": probabilities[idx][pred], \"word\": tokens[idx]}\n",
    "        )\n",
    "\n",
    "print(results)"
   ]
  },
  {
   "cell_type": "markdown",
   "metadata": {
    "id": "NIVALP6wptjb"
   },
   "source": [
    "This is very similar to what we had before, with one exception: the pipeline also gave us information about the start and end of each entity in the original sentence. This is where our displacement mapping comes into play. To get the offsets, we just need to set return_offsets_mapping=True when we apply the tokenizer to our input:"
   ]
  },
  {
   "cell_type": "code",
   "execution_count": null,
   "metadata": {
    "colab": {
     "base_uri": "https://localhost:8080/"
    },
    "id": "8nPAB5pq7Ihm",
    "outputId": "6a64f374-7b0b-4050-f278-4fbc105613b2"
   },
   "outputs": [
    {
     "data": {
      "text/plain": [
       "[(0, 0),\n",
       " (0, 1),\n",
       " (2, 6),\n",
       " (7, 8),\n",
       " (8, 10),\n",
       " (11, 12),\n",
       " (12, 14),\n",
       " (14, 15),\n",
       " (16, 19),\n",
       " (20, 22),\n",
       " (23, 27),\n",
       " (28, 30),\n",
       " (31, 32),\n",
       " (32, 34),\n",
       " (34, 37),\n",
       " (37, 38),\n",
       " (0, 0)]"
      ]
     },
     "execution_count": 16,
     "metadata": {},
     "output_type": "execute_result"
    }
   ],
   "source": [
    "inputs_with_offsets = tokenizer(example, return_offsets_mapping=True)\n",
    "inputs_with_offsets[\"offset_mapping\"]"
   ]
  },
  {
   "cell_type": "markdown",
   "metadata": {
    "id": "j8dY5AxgqFT0"
   },
   "source": [
    "Each tuple is the span of text corresponding to each token, where (0, 0) is reserved for special tokens. We saw earlier that the marker at index 4 is ##PI, which has (8, 10) as the offset here. If we grab the corresponding fragment in our example:"
   ]
  },
  {
   "cell_type": "code",
   "execution_count": null,
   "metadata": {
    "colab": {
     "base_uri": "https://localhost:8080/",
     "height": 35
    },
    "id": "dlN1vYB0qpig",
    "outputId": "d52d87ec-cafe-4f75-ad34-cbf1a5980b73"
   },
   "outputs": [
    {
     "data": {
      "application/vnd.google.colaboratory.intrinsic+json": {
       "type": "string"
      },
      "text/plain": [
       "'PI'"
      ]
     },
     "execution_count": 17,
     "metadata": {},
     "output_type": "execute_result"
    }
   ],
   "source": [
    "example[8:10]"
   ]
  },
  {
   "cell_type": "markdown",
   "metadata": {
    "id": "HiOn9gyOqz3r"
   },
   "source": [
    "we get the correct range of text without ##:\n",
    "\n",
    "\n",
    "```\n",
    "PI\n",
    "```"
   ]
  },
  {
   "cell_type": "markdown",
   "metadata": {
    "id": "y6NFd6QarC-K"
   },
   "source": [
    "Using this, we can now complete the previous results:"
   ]
  },
  {
   "cell_type": "code",
   "execution_count": null,
   "metadata": {
    "colab": {
     "base_uri": "https://localhost:8080/"
    },
    "id": "vzkNNbv27McE",
    "outputId": "f72fd5b7-6920-4af0-e3cc-7897ad1ea505"
   },
   "outputs": [
    {
     "name": "stdout",
     "output_type": "stream",
     "text": [
      "[{'entity': 'I-ORG', 'score': 0.9960530996322632, 'word': 'K', 'start': 7, 'end': 8}, {'entity': 'I-ORG', 'score': 0.9929094910621643, 'word': '##PI', 'start': 8, 'end': 10}, {'entity': 'I-ORG', 'score': 0.9920504689216614, 'word': 'I', 'start': 11, 'end': 12}, {'entity': 'I-ORG', 'score': 0.9813381433486938, 'word': '##AS', 'start': 12, 'end': 14}, {'entity': 'I-ORG', 'score': 0.9903860092163086, 'word': '##A', 'start': 14, 'end': 15}, {'entity': 'I-PER', 'score': 0.998601496219635, 'word': 'D', 'start': 31, 'end': 32}, {'entity': 'I-PER', 'score': 0.9962921142578125, 'word': '##my', 'start': 32, 'end': 34}, {'entity': 'I-PER', 'score': 0.9983012080192566, 'word': '##tro', 'start': 34, 'end': 37}]\n"
     ]
    }
   ],
   "source": [
    "results = []\n",
    "inputs_with_offsets = tokenizer(example, return_offsets_mapping=True)\n",
    "tokens = inputs_with_offsets.tokens()\n",
    "offsets = inputs_with_offsets[\"offset_mapping\"]\n",
    "\n",
    "for idx, pred in enumerate(predictions):\n",
    "    label = model.config.id2label[pred]\n",
    "    if label != \"O\":\n",
    "        start, end = offsets[idx]\n",
    "        results.append(\n",
    "            {\n",
    "                \"entity\": label,\n",
    "                \"score\": probabilities[idx][pred],\n",
    "                \"word\": tokens[idx],\n",
    "                \"start\": start,\n",
    "                \"end\": end,\n",
    "            }\n",
    "        )\n",
    "\n",
    "print(results)"
   ]
  },
  {
   "cell_type": "markdown",
   "metadata": {
    "id": "sMoSX1xBrqiV"
   },
   "source": [
    "This is the same as what we got from the first assembly line!"
   ]
  },
  {
   "cell_type": "markdown",
   "metadata": {
    "id": "L5HA7ePbrubK"
   },
   "source": [
    "### Entity grouping"
   ]
  },
  {
   "cell_type": "markdown",
   "metadata": {
    "id": "usCVTu-3sQev"
   },
   "source": [
    "Using offsets to define the start and end keys for each entity is convenient, but this information is not absolutely necessary. However, when we want to group entities together, offsets will save us a lot of messy code. For example, if we wanted to group the tokens K, ##PI and I, ##AS, ##A we could create special rules that the first two should be attached by removing the ## and the I should be appended with a space because it doesn't start with ##, the last two will be attached too - but this will only work for that specific type of tokenizer. We would have to write a different set of rules for SentencePiece or the Byte-Pair-Encoding tokenizer (discussed later in this section).\n",
    "\n",
    "With offsets, all of this user code disappears: we can simply take the space in the source text that starts with the first token and ends with the last token. So, in the case of tokens K, ##PI and I, ##AS, ##A, we have to start at character 7 (the beginning of K) and end before character 15 (the end of ##A):"
   ]
  },
  {
   "cell_type": "code",
   "execution_count": null,
   "metadata": {
    "colab": {
     "base_uri": "https://localhost:8080/",
     "height": 35
    },
    "id": "33dACwFgvL76",
    "outputId": "df9be62a-eab0-45c6-9b15-90c0d5883d34"
   },
   "outputs": [
    {
     "data": {
      "application/vnd.google.colaboratory.intrinsic+json": {
       "type": "string"
      },
      "text/plain": [
       "'KPI IASA'"
      ]
     },
     "execution_count": 19,
     "metadata": {},
     "output_type": "execute_result"
    }
   ],
   "source": [
    "example[7:15]"
   ]
  },
  {
   "cell_type": "markdown",
   "metadata": {
    "id": "VKI1PFWbvuGI"
   },
   "source": [
    "To write code that handles predictions when grouping entities, we group entities that are consecutive and labeled I-XXX except for the first one, which may be labeled B-XXX or I-XXX (so we stop grouping an entity when we get O, the new entity type, or B-XXX, which tells us that an entity of the same type is starting):"
   ]
  },
  {
   "cell_type": "code",
   "execution_count": null,
   "metadata": {
    "colab": {
     "base_uri": "https://localhost:8080/"
    },
    "id": "5GhU7iI27XVy",
    "outputId": "7d90ef95-82f1-497c-e10c-d44041f62e79"
   },
   "outputs": [
    {
     "name": "stdout",
     "output_type": "stream",
     "text": [
      "[{'entity_group': 'ORG', 'score': 0.9905474424362183, 'word': 'KPI IASA', 'start': 7, 'end': 15}, {'entity_group': 'PER', 'score': 0.997731606165568, 'word': 'Dmytro', 'start': 31, 'end': 37}]\n"
     ]
    }
   ],
   "source": [
    "import numpy as np\n",
    "\n",
    "results = []\n",
    "inputs_with_offsets = tokenizer(example, return_offsets_mapping=True)\n",
    "tokens = inputs_with_offsets.tokens()\n",
    "offsets = inputs_with_offsets[\"offset_mapping\"]\n",
    "\n",
    "idx = 0\n",
    "while idx < len(predictions):\n",
    "    pred = predictions[idx]\n",
    "    label = model.config.id2label[pred]\n",
    "    if label != \"O\":\n",
    "        # Remove the B- or I-\n",
    "        label = label[2:]\n",
    "        start, _ = offsets[idx]\n",
    "\n",
    "        # Grab all the tokens labeled with I-label\n",
    "        all_scores = []\n",
    "        while (\n",
    "            idx < len(predictions)\n",
    "            and model.config.id2label[predictions[idx]] == f\"I-{label}\"\n",
    "        ):\n",
    "            all_scores.append(probabilities[idx][pred])\n",
    "            _, end = offsets[idx]\n",
    "            idx += 1\n",
    "\n",
    "        # The score is the mean of all the scores of the tokens in that grouped entity\n",
    "        score = np.mean(all_scores).item()\n",
    "        word = example[start:end]\n",
    "        results.append(\n",
    "            {\n",
    "                \"entity_group\": label,\n",
    "                \"score\": score,\n",
    "                \"word\": word,\n",
    "                \"start\": start,\n",
    "                \"end\": end,\n",
    "            }\n",
    "        )\n",
    "    idx += 1\n",
    "\n",
    "print(results)"
   ]
  },
  {
   "cell_type": "markdown",
   "metadata": {
    "id": "QktGT4K3xA2O"
   },
   "source": [
    "And we get the same results as with our second pipeline!"
   ]
  },
  {
   "cell_type": "code",
   "execution_count": null,
   "metadata": {},
   "outputs": [],
   "source": []
  }
 ],
 "metadata": {
  "colab": {
   "provenance": []
  },
  "kernelspec": {
   "display_name": "Python 3 (ipykernel)",
   "language": "python",
   "name": "python3"
  },
  "language_info": {
   "codemirror_mode": {
    "name": "ipython",
    "version": 3
   },
   "file_extension": ".py",
   "mimetype": "text/x-python",
   "name": "python",
   "nbconvert_exporter": "python",
   "pygments_lexer": "ipython3",
   "version": "3.9.13"
  },
  "widgets": {
   "application/vnd.jupyter.widget-state+json": {
    "00ce4176801e41f1b48fc852aee6b34a": {
     "model_module": "@jupyter-widgets/base",
     "model_module_version": "1.2.0",
     "model_name": "LayoutModel",
     "state": {
      "_model_module": "@jupyter-widgets/base",
      "_model_module_version": "1.2.0",
      "_model_name": "LayoutModel",
      "_view_count": null,
      "_view_module": "@jupyter-widgets/base",
      "_view_module_version": "1.2.0",
      "_view_name": "LayoutView",
      "align_content": null,
      "align_items": null,
      "align_self": null,
      "border": null,
      "bottom": null,
      "display": null,
      "flex": null,
      "flex_flow": null,
      "grid_area": null,
      "grid_auto_columns": null,
      "grid_auto_flow": null,
      "grid_auto_rows": null,
      "grid_column": null,
      "grid_gap": null,
      "grid_row": null,
      "grid_template_areas": null,
      "grid_template_columns": null,
      "grid_template_rows": null,
      "height": null,
      "justify_content": null,
      "justify_items": null,
      "left": null,
      "margin": null,
      "max_height": null,
      "max_width": null,
      "min_height": null,
      "min_width": null,
      "object_fit": null,
      "object_position": null,
      "order": null,
      "overflow": null,
      "overflow_x": null,
      "overflow_y": null,
      "padding": null,
      "right": null,
      "top": null,
      "visibility": null,
      "width": null
     }
    },
    "0eb9cac9910b491db5abf2087a4939f1": {
     "model_module": "@jupyter-widgets/controls",
     "model_module_version": "1.5.0",
     "model_name": "HBoxModel",
     "state": {
      "_dom_classes": [],
      "_model_module": "@jupyter-widgets/controls",
      "_model_module_version": "1.5.0",
      "_model_name": "HBoxModel",
      "_view_count": null,
      "_view_module": "@jupyter-widgets/controls",
      "_view_module_version": "1.5.0",
      "_view_name": "HBoxView",
      "box_style": "",
      "children": [
       "IPY_MODEL_2af13b9d903c457f9364bcc6567e6f78",
       "IPY_MODEL_5b5f42f00bf44d639aa968dd8f0cc5a4",
       "IPY_MODEL_d3f5a1c4276b4d20beb2649cf2ab8d5a"
      ],
      "layout": "IPY_MODEL_b9cfeea7e6274ba3bd0a5609d932df5d"
     }
    },
    "173aaa971b1840e8b793ddc50d044bbc": {
     "model_module": "@jupyter-widgets/controls",
     "model_module_version": "1.5.0",
     "model_name": "ProgressStyleModel",
     "state": {
      "_model_module": "@jupyter-widgets/controls",
      "_model_module_version": "1.5.0",
      "_model_name": "ProgressStyleModel",
      "_view_count": null,
      "_view_module": "@jupyter-widgets/base",
      "_view_module_version": "1.2.0",
      "_view_name": "StyleView",
      "bar_color": null,
      "description_width": ""
     }
    },
    "1f345b1866a4480da6ac1b94612ddc0d": {
     "model_module": "@jupyter-widgets/controls",
     "model_module_version": "1.5.0",
     "model_name": "DescriptionStyleModel",
     "state": {
      "_model_module": "@jupyter-widgets/controls",
      "_model_module_version": "1.5.0",
      "_model_name": "DescriptionStyleModel",
      "_view_count": null,
      "_view_module": "@jupyter-widgets/base",
      "_view_module_version": "1.2.0",
      "_view_name": "StyleView",
      "description_width": ""
     }
    },
    "23c3eafe63e446059c3b1026c170f04f": {
     "model_module": "@jupyter-widgets/base",
     "model_module_version": "1.2.0",
     "model_name": "LayoutModel",
     "state": {
      "_model_module": "@jupyter-widgets/base",
      "_model_module_version": "1.2.0",
      "_model_name": "LayoutModel",
      "_view_count": null,
      "_view_module": "@jupyter-widgets/base",
      "_view_module_version": "1.2.0",
      "_view_name": "LayoutView",
      "align_content": null,
      "align_items": null,
      "align_self": null,
      "border": null,
      "bottom": null,
      "display": null,
      "flex": null,
      "flex_flow": null,
      "grid_area": null,
      "grid_auto_columns": null,
      "grid_auto_flow": null,
      "grid_auto_rows": null,
      "grid_column": null,
      "grid_gap": null,
      "grid_row": null,
      "grid_template_areas": null,
      "grid_template_columns": null,
      "grid_template_rows": null,
      "height": null,
      "justify_content": null,
      "justify_items": null,
      "left": null,
      "margin": null,
      "max_height": null,
      "max_width": null,
      "min_height": null,
      "min_width": null,
      "object_fit": null,
      "object_position": null,
      "order": null,
      "overflow": null,
      "overflow_x": null,
      "overflow_y": null,
      "padding": null,
      "right": null,
      "top": null,
      "visibility": null,
      "width": null
     }
    },
    "25a65a377a24489c85cfa3faae3dad60": {
     "model_module": "@jupyter-widgets/controls",
     "model_module_version": "1.5.0",
     "model_name": "ProgressStyleModel",
     "state": {
      "_model_module": "@jupyter-widgets/controls",
      "_model_module_version": "1.5.0",
      "_model_name": "ProgressStyleModel",
      "_view_count": null,
      "_view_module": "@jupyter-widgets/base",
      "_view_module_version": "1.2.0",
      "_view_name": "StyleView",
      "bar_color": null,
      "description_width": ""
     }
    },
    "2af13b9d903c457f9364bcc6567e6f78": {
     "model_module": "@jupyter-widgets/controls",
     "model_module_version": "1.5.0",
     "model_name": "HTMLModel",
     "state": {
      "_dom_classes": [],
      "_model_module": "@jupyter-widgets/controls",
      "_model_module_version": "1.5.0",
      "_model_name": "HTMLModel",
      "_view_count": null,
      "_view_module": "@jupyter-widgets/controls",
      "_view_module_version": "1.5.0",
      "_view_name": "HTMLView",
      "description": "",
      "description_tooltip": null,
      "layout": "IPY_MODEL_ea53bd27aaa249dfb75dbbddc99c8c13",
      "placeholder": "​",
      "style": "IPY_MODEL_5e07346c1a97488da2eee8d46598e1e5",
      "value": "Downloading: 100%"
     }
    },
    "3125cfae85d849c6b877de826abb48e1": {
     "model_module": "@jupyter-widgets/controls",
     "model_module_version": "1.5.0",
     "model_name": "ProgressStyleModel",
     "state": {
      "_model_module": "@jupyter-widgets/controls",
      "_model_module_version": "1.5.0",
      "_model_name": "ProgressStyleModel",
      "_view_count": null,
      "_view_module": "@jupyter-widgets/base",
      "_view_module_version": "1.2.0",
      "_view_name": "StyleView",
      "bar_color": null,
      "description_width": ""
     }
    },
    "34e5144fa2494bb39a8d2345b89bcdb2": {
     "model_module": "@jupyter-widgets/base",
     "model_module_version": "1.2.0",
     "model_name": "LayoutModel",
     "state": {
      "_model_module": "@jupyter-widgets/base",
      "_model_module_version": "1.2.0",
      "_model_name": "LayoutModel",
      "_view_count": null,
      "_view_module": "@jupyter-widgets/base",
      "_view_module_version": "1.2.0",
      "_view_name": "LayoutView",
      "align_content": null,
      "align_items": null,
      "align_self": null,
      "border": null,
      "bottom": null,
      "display": null,
      "flex": null,
      "flex_flow": null,
      "grid_area": null,
      "grid_auto_columns": null,
      "grid_auto_flow": null,
      "grid_auto_rows": null,
      "grid_column": null,
      "grid_gap": null,
      "grid_row": null,
      "grid_template_areas": null,
      "grid_template_columns": null,
      "grid_template_rows": null,
      "height": null,
      "justify_content": null,
      "justify_items": null,
      "left": null,
      "margin": null,
      "max_height": null,
      "max_width": null,
      "min_height": null,
      "min_width": null,
      "object_fit": null,
      "object_position": null,
      "order": null,
      "overflow": null,
      "overflow_x": null,
      "overflow_y": null,
      "padding": null,
      "right": null,
      "top": null,
      "visibility": null,
      "width": null
     }
    },
    "3bf9a1f23fd443eab9d7934debfe9859": {
     "model_module": "@jupyter-widgets/controls",
     "model_module_version": "1.5.0",
     "model_name": "HBoxModel",
     "state": {
      "_dom_classes": [],
      "_model_module": "@jupyter-widgets/controls",
      "_model_module_version": "1.5.0",
      "_model_name": "HBoxModel",
      "_view_count": null,
      "_view_module": "@jupyter-widgets/controls",
      "_view_module_version": "1.5.0",
      "_view_name": "HBoxView",
      "box_style": "",
      "children": [
       "IPY_MODEL_e21a90eb7767496e8279607e703610b1",
       "IPY_MODEL_da10dd28b0c7449da18c87e87cbf4df5",
       "IPY_MODEL_cc3173893c2140ceb7ce7f7d544ed915"
      ],
      "layout": "IPY_MODEL_d67ca32e8f534ae8822fde92923bdaab"
     }
    },
    "5b4de2255eb9470eb89e63cb94078f8a": {
     "model_module": "@jupyter-widgets/controls",
     "model_module_version": "1.5.0",
     "model_name": "DescriptionStyleModel",
     "state": {
      "_model_module": "@jupyter-widgets/controls",
      "_model_module_version": "1.5.0",
      "_model_name": "DescriptionStyleModel",
      "_view_count": null,
      "_view_module": "@jupyter-widgets/base",
      "_view_module_version": "1.2.0",
      "_view_name": "StyleView",
      "description_width": ""
     }
    },
    "5b5f42f00bf44d639aa968dd8f0cc5a4": {
     "model_module": "@jupyter-widgets/controls",
     "model_module_version": "1.5.0",
     "model_name": "FloatProgressModel",
     "state": {
      "_dom_classes": [],
      "_model_module": "@jupyter-widgets/controls",
      "_model_module_version": "1.5.0",
      "_model_name": "FloatProgressModel",
      "_view_count": null,
      "_view_module": "@jupyter-widgets/controls",
      "_view_module_version": "1.5.0",
      "_view_name": "ProgressView",
      "bar_style": "success",
      "description": "",
      "description_tooltip": null,
      "layout": "IPY_MODEL_e89fc3918de34552bde59e7ab8ff41aa",
      "max": 570,
      "min": 0,
      "orientation": "horizontal",
      "style": "IPY_MODEL_25a65a377a24489c85cfa3faae3dad60",
      "value": 570
     }
    },
    "5e07346c1a97488da2eee8d46598e1e5": {
     "model_module": "@jupyter-widgets/controls",
     "model_module_version": "1.5.0",
     "model_name": "DescriptionStyleModel",
     "state": {
      "_model_module": "@jupyter-widgets/controls",
      "_model_module_version": "1.5.0",
      "_model_name": "DescriptionStyleModel",
      "_view_count": null,
      "_view_module": "@jupyter-widgets/base",
      "_view_module_version": "1.2.0",
      "_view_name": "StyleView",
      "description_width": ""
     }
    },
    "60c78bccde554fe19523e10070b4c5f0": {
     "model_module": "@jupyter-widgets/controls",
     "model_module_version": "1.5.0",
     "model_name": "DescriptionStyleModel",
     "state": {
      "_model_module": "@jupyter-widgets/controls",
      "_model_module_version": "1.5.0",
      "_model_name": "DescriptionStyleModel",
      "_view_count": null,
      "_view_module": "@jupyter-widgets/base",
      "_view_module_version": "1.2.0",
      "_view_name": "StyleView",
      "description_width": ""
     }
    },
    "647925c5c7fb4c6198c0f3c63bf9ba46": {
     "model_module": "@jupyter-widgets/controls",
     "model_module_version": "1.5.0",
     "model_name": "DescriptionStyleModel",
     "state": {
      "_model_module": "@jupyter-widgets/controls",
      "_model_module_version": "1.5.0",
      "_model_name": "DescriptionStyleModel",
      "_view_count": null,
      "_view_module": "@jupyter-widgets/base",
      "_view_module_version": "1.2.0",
      "_view_name": "StyleView",
      "description_width": ""
     }
    },
    "6590ffdf0c83401c87e017401e272230": {
     "model_module": "@jupyter-widgets/controls",
     "model_module_version": "1.5.0",
     "model_name": "HBoxModel",
     "state": {
      "_dom_classes": [],
      "_model_module": "@jupyter-widgets/controls",
      "_model_module_version": "1.5.0",
      "_model_name": "HBoxModel",
      "_view_count": null,
      "_view_module": "@jupyter-widgets/controls",
      "_view_module_version": "1.5.0",
      "_view_name": "HBoxView",
      "box_style": "",
      "children": [
       "IPY_MODEL_c8420879bdef482ea3570ae33a526ea8",
       "IPY_MODEL_f9d572d970ba49299c0df59c40e29548",
       "IPY_MODEL_fab0fa0eabcd478c9e1f34fd5abc49da"
      ],
      "layout": "IPY_MODEL_ee15a8dddbce4425b6c2e0cbaa84a3fd"
     }
    },
    "771f1304c44e406c98e97d49a94627f2": {
     "model_module": "@jupyter-widgets/base",
     "model_module_version": "1.2.0",
     "model_name": "LayoutModel",
     "state": {
      "_model_module": "@jupyter-widgets/base",
      "_model_module_version": "1.2.0",
      "_model_name": "LayoutModel",
      "_view_count": null,
      "_view_module": "@jupyter-widgets/base",
      "_view_module_version": "1.2.0",
      "_view_name": "LayoutView",
      "align_content": null,
      "align_items": null,
      "align_self": null,
      "border": null,
      "bottom": null,
      "display": null,
      "flex": null,
      "flex_flow": null,
      "grid_area": null,
      "grid_auto_columns": null,
      "grid_auto_flow": null,
      "grid_auto_rows": null,
      "grid_column": null,
      "grid_gap": null,
      "grid_row": null,
      "grid_template_areas": null,
      "grid_template_columns": null,
      "grid_template_rows": null,
      "height": null,
      "justify_content": null,
      "justify_items": null,
      "left": null,
      "margin": null,
      "max_height": null,
      "max_width": null,
      "min_height": null,
      "min_width": null,
      "object_fit": null,
      "object_position": null,
      "order": null,
      "overflow": null,
      "overflow_x": null,
      "overflow_y": null,
      "padding": null,
      "right": null,
      "top": null,
      "visibility": null,
      "width": null
     }
    },
    "831b9745569c4ea8997cde66e5808bc2": {
     "model_module": "@jupyter-widgets/base",
     "model_module_version": "1.2.0",
     "model_name": "LayoutModel",
     "state": {
      "_model_module": "@jupyter-widgets/base",
      "_model_module_version": "1.2.0",
      "_model_name": "LayoutModel",
      "_view_count": null,
      "_view_module": "@jupyter-widgets/base",
      "_view_module_version": "1.2.0",
      "_view_name": "LayoutView",
      "align_content": null,
      "align_items": null,
      "align_self": null,
      "border": null,
      "bottom": null,
      "display": null,
      "flex": null,
      "flex_flow": null,
      "grid_area": null,
      "grid_auto_columns": null,
      "grid_auto_flow": null,
      "grid_auto_rows": null,
      "grid_column": null,
      "grid_gap": null,
      "grid_row": null,
      "grid_template_areas": null,
      "grid_template_columns": null,
      "grid_template_rows": null,
      "height": null,
      "justify_content": null,
      "justify_items": null,
      "left": null,
      "margin": null,
      "max_height": null,
      "max_width": null,
      "min_height": null,
      "min_width": null,
      "object_fit": null,
      "object_position": null,
      "order": null,
      "overflow": null,
      "overflow_x": null,
      "overflow_y": null,
      "padding": null,
      "right": null,
      "top": null,
      "visibility": null,
      "width": null
     }
    },
    "8c3e885892c4493d9970afdc115508a0": {
     "model_module": "@jupyter-widgets/base",
     "model_module_version": "1.2.0",
     "model_name": "LayoutModel",
     "state": {
      "_model_module": "@jupyter-widgets/base",
      "_model_module_version": "1.2.0",
      "_model_name": "LayoutModel",
      "_view_count": null,
      "_view_module": "@jupyter-widgets/base",
      "_view_module_version": "1.2.0",
      "_view_name": "LayoutView",
      "align_content": null,
      "align_items": null,
      "align_self": null,
      "border": null,
      "bottom": null,
      "display": null,
      "flex": null,
      "flex_flow": null,
      "grid_area": null,
      "grid_auto_columns": null,
      "grid_auto_flow": null,
      "grid_auto_rows": null,
      "grid_column": null,
      "grid_gap": null,
      "grid_row": null,
      "grid_template_areas": null,
      "grid_template_columns": null,
      "grid_template_rows": null,
      "height": null,
      "justify_content": null,
      "justify_items": null,
      "left": null,
      "margin": null,
      "max_height": null,
      "max_width": null,
      "min_height": null,
      "min_width": null,
      "object_fit": null,
      "object_position": null,
      "order": null,
      "overflow": null,
      "overflow_x": null,
      "overflow_y": null,
      "padding": null,
      "right": null,
      "top": null,
      "visibility": null,
      "width": null
     }
    },
    "91a2953aa0674db4aedd64a1f9490372": {
     "model_module": "@jupyter-widgets/base",
     "model_module_version": "1.2.0",
     "model_name": "LayoutModel",
     "state": {
      "_model_module": "@jupyter-widgets/base",
      "_model_module_version": "1.2.0",
      "_model_name": "LayoutModel",
      "_view_count": null,
      "_view_module": "@jupyter-widgets/base",
      "_view_module_version": "1.2.0",
      "_view_name": "LayoutView",
      "align_content": null,
      "align_items": null,
      "align_self": null,
      "border": null,
      "bottom": null,
      "display": null,
      "flex": null,
      "flex_flow": null,
      "grid_area": null,
      "grid_auto_columns": null,
      "grid_auto_flow": null,
      "grid_auto_rows": null,
      "grid_column": null,
      "grid_gap": null,
      "grid_row": null,
      "grid_template_areas": null,
      "grid_template_columns": null,
      "grid_template_rows": null,
      "height": null,
      "justify_content": null,
      "justify_items": null,
      "left": null,
      "margin": null,
      "max_height": null,
      "max_width": null,
      "min_height": null,
      "min_width": null,
      "object_fit": null,
      "object_position": null,
      "order": null,
      "overflow": null,
      "overflow_x": null,
      "overflow_y": null,
      "padding": null,
      "right": null,
      "top": null,
      "visibility": null,
      "width": null
     }
    },
    "98527ffe64364f908a2c31129b8f9a83": {
     "model_module": "@jupyter-widgets/controls",
     "model_module_version": "1.5.0",
     "model_name": "FloatProgressModel",
     "state": {
      "_dom_classes": [],
      "_model_module": "@jupyter-widgets/controls",
      "_model_module_version": "1.5.0",
      "_model_name": "FloatProgressModel",
      "_view_count": null,
      "_view_module": "@jupyter-widgets/controls",
      "_view_module_version": "1.5.0",
      "_view_name": "ProgressView",
      "bar_style": "success",
      "description": "",
      "description_tooltip": null,
      "layout": "IPY_MODEL_ee4fc0b2cbd74cc78cbaa6951ba4f843",
      "max": 213450,
      "min": 0,
      "orientation": "horizontal",
      "style": "IPY_MODEL_f845f8eabb9d4b059a9af0d513e03798",
      "value": 213450
     }
    },
    "ad2f308bec63417280c2c3eb594d3de8": {
     "model_module": "@jupyter-widgets/controls",
     "model_module_version": "1.5.0",
     "model_name": "HTMLModel",
     "state": {
      "_dom_classes": [],
      "_model_module": "@jupyter-widgets/controls",
      "_model_module_version": "1.5.0",
      "_model_name": "HTMLModel",
      "_view_count": null,
      "_view_module": "@jupyter-widgets/controls",
      "_view_module_version": "1.5.0",
      "_view_name": "HTMLView",
      "description": "",
      "description_tooltip": null,
      "layout": "IPY_MODEL_d5b250598f7b41f9b91192d4fd447d6b",
      "placeholder": "​",
      "style": "IPY_MODEL_60c78bccde554fe19523e10070b4c5f0",
      "value": " 213k/213k [00:00&lt;00:00, 6.40MB/s]"
     }
    },
    "add3f85179c9445586d5f2876610d8f7": {
     "model_module": "@jupyter-widgets/base",
     "model_module_version": "1.2.0",
     "model_name": "LayoutModel",
     "state": {
      "_model_module": "@jupyter-widgets/base",
      "_model_module_version": "1.2.0",
      "_model_name": "LayoutModel",
      "_view_count": null,
      "_view_module": "@jupyter-widgets/base",
      "_view_module_version": "1.2.0",
      "_view_name": "LayoutView",
      "align_content": null,
      "align_items": null,
      "align_self": null,
      "border": null,
      "bottom": null,
      "display": null,
      "flex": null,
      "flex_flow": null,
      "grid_area": null,
      "grid_auto_columns": null,
      "grid_auto_flow": null,
      "grid_auto_rows": null,
      "grid_column": null,
      "grid_gap": null,
      "grid_row": null,
      "grid_template_areas": null,
      "grid_template_columns": null,
      "grid_template_rows": null,
      "height": null,
      "justify_content": null,
      "justify_items": null,
      "left": null,
      "margin": null,
      "max_height": null,
      "max_width": null,
      "min_height": null,
      "min_width": null,
      "object_fit": null,
      "object_position": null,
      "order": null,
      "overflow": null,
      "overflow_x": null,
      "overflow_y": null,
      "padding": null,
      "right": null,
      "top": null,
      "visibility": null,
      "width": null
     }
    },
    "ae6f3be96f5248298d36cc0b439b82e7": {
     "model_module": "@jupyter-widgets/controls",
     "model_module_version": "1.5.0",
     "model_name": "DescriptionStyleModel",
     "state": {
      "_model_module": "@jupyter-widgets/controls",
      "_model_module_version": "1.5.0",
      "_model_name": "DescriptionStyleModel",
      "_view_count": null,
      "_view_module": "@jupyter-widgets/base",
      "_view_module_version": "1.2.0",
      "_view_name": "StyleView",
      "description_width": ""
     }
    },
    "b2e9bf63e057443782944cd423a7251a": {
     "model_module": "@jupyter-widgets/controls",
     "model_module_version": "1.5.0",
     "model_name": "HTMLModel",
     "state": {
      "_dom_classes": [],
      "_model_module": "@jupyter-widgets/controls",
      "_model_module_version": "1.5.0",
      "_model_name": "HTMLModel",
      "_view_count": null,
      "_view_module": "@jupyter-widgets/controls",
      "_view_module_version": "1.5.0",
      "_view_name": "HTMLView",
      "description": "",
      "description_tooltip": null,
      "layout": "IPY_MODEL_91a2953aa0674db4aedd64a1f9490372",
      "placeholder": "​",
      "style": "IPY_MODEL_d145d7e6bc0c45f68d21562a07a92dad",
      "value": "Downloading: 100%"
     }
    },
    "b9cfeea7e6274ba3bd0a5609d932df5d": {
     "model_module": "@jupyter-widgets/base",
     "model_module_version": "1.2.0",
     "model_name": "LayoutModel",
     "state": {
      "_model_module": "@jupyter-widgets/base",
      "_model_module_version": "1.2.0",
      "_model_name": "LayoutModel",
      "_view_count": null,
      "_view_module": "@jupyter-widgets/base",
      "_view_module_version": "1.2.0",
      "_view_name": "LayoutView",
      "align_content": null,
      "align_items": null,
      "align_self": null,
      "border": null,
      "bottom": null,
      "display": null,
      "flex": null,
      "flex_flow": null,
      "grid_area": null,
      "grid_auto_columns": null,
      "grid_auto_flow": null,
      "grid_auto_rows": null,
      "grid_column": null,
      "grid_gap": null,
      "grid_row": null,
      "grid_template_areas": null,
      "grid_template_columns": null,
      "grid_template_rows": null,
      "height": null,
      "justify_content": null,
      "justify_items": null,
      "left": null,
      "margin": null,
      "max_height": null,
      "max_width": null,
      "min_height": null,
      "min_width": null,
      "object_fit": null,
      "object_position": null,
      "order": null,
      "overflow": null,
      "overflow_x": null,
      "overflow_y": null,
      "padding": null,
      "right": null,
      "top": null,
      "visibility": null,
      "width": null
     }
    },
    "b9ff69bbc3c643bc9746edf487345645": {
     "model_module": "@jupyter-widgets/base",
     "model_module_version": "1.2.0",
     "model_name": "LayoutModel",
     "state": {
      "_model_module": "@jupyter-widgets/base",
      "_model_module_version": "1.2.0",
      "_model_name": "LayoutModel",
      "_view_count": null,
      "_view_module": "@jupyter-widgets/base",
      "_view_module_version": "1.2.0",
      "_view_name": "LayoutView",
      "align_content": null,
      "align_items": null,
      "align_self": null,
      "border": null,
      "bottom": null,
      "display": null,
      "flex": null,
      "flex_flow": null,
      "grid_area": null,
      "grid_auto_columns": null,
      "grid_auto_flow": null,
      "grid_auto_rows": null,
      "grid_column": null,
      "grid_gap": null,
      "grid_row": null,
      "grid_template_areas": null,
      "grid_template_columns": null,
      "grid_template_rows": null,
      "height": null,
      "justify_content": null,
      "justify_items": null,
      "left": null,
      "margin": null,
      "max_height": null,
      "max_width": null,
      "min_height": null,
      "min_width": null,
      "object_fit": null,
      "object_position": null,
      "order": null,
      "overflow": null,
      "overflow_x": null,
      "overflow_y": null,
      "padding": null,
      "right": null,
      "top": null,
      "visibility": null,
      "width": null
     }
    },
    "c1cb0e3e4da74d51b5ff19e10308c0da": {
     "model_module": "@jupyter-widgets/controls",
     "model_module_version": "1.5.0",
     "model_name": "HBoxModel",
     "state": {
      "_dom_classes": [],
      "_model_module": "@jupyter-widgets/controls",
      "_model_module_version": "1.5.0",
      "_model_name": "HBoxModel",
      "_view_count": null,
      "_view_module": "@jupyter-widgets/controls",
      "_view_module_version": "1.5.0",
      "_view_name": "HBoxView",
      "box_style": "",
      "children": [
       "IPY_MODEL_b2e9bf63e057443782944cd423a7251a",
       "IPY_MODEL_98527ffe64364f908a2c31129b8f9a83",
       "IPY_MODEL_ad2f308bec63417280c2c3eb594d3de8"
      ],
      "layout": "IPY_MODEL_00ce4176801e41f1b48fc852aee6b34a"
     }
    },
    "c8420879bdef482ea3570ae33a526ea8": {
     "model_module": "@jupyter-widgets/controls",
     "model_module_version": "1.5.0",
     "model_name": "HTMLModel",
     "state": {
      "_dom_classes": [],
      "_model_module": "@jupyter-widgets/controls",
      "_model_module_version": "1.5.0",
      "_model_name": "HTMLModel",
      "_view_count": null,
      "_view_module": "@jupyter-widgets/controls",
      "_view_module_version": "1.5.0",
      "_view_name": "HTMLView",
      "description": "",
      "description_tooltip": null,
      "layout": "IPY_MODEL_23c3eafe63e446059c3b1026c170f04f",
      "placeholder": "​",
      "style": "IPY_MODEL_ae6f3be96f5248298d36cc0b439b82e7",
      "value": "Downloading: 100%"
     }
    },
    "cc3173893c2140ceb7ce7f7d544ed915": {
     "model_module": "@jupyter-widgets/controls",
     "model_module_version": "1.5.0",
     "model_name": "HTMLModel",
     "state": {
      "_dom_classes": [],
      "_model_module": "@jupyter-widgets/controls",
      "_model_module_version": "1.5.0",
      "_model_name": "HTMLModel",
      "_view_count": null,
      "_view_module": "@jupyter-widgets/controls",
      "_view_module_version": "1.5.0",
      "_view_name": "HTMLView",
      "description": "",
      "description_tooltip": null,
      "layout": "IPY_MODEL_add3f85179c9445586d5f2876610d8f7",
      "placeholder": "​",
      "style": "IPY_MODEL_5b4de2255eb9470eb89e63cb94078f8a",
      "value": " 436k/436k [00:00&lt;00:00, 10.6MB/s]"
     }
    },
    "d145d7e6bc0c45f68d21562a07a92dad": {
     "model_module": "@jupyter-widgets/controls",
     "model_module_version": "1.5.0",
     "model_name": "DescriptionStyleModel",
     "state": {
      "_model_module": "@jupyter-widgets/controls",
      "_model_module_version": "1.5.0",
      "_model_name": "DescriptionStyleModel",
      "_view_count": null,
      "_view_module": "@jupyter-widgets/base",
      "_view_module_version": "1.2.0",
      "_view_name": "StyleView",
      "description_width": ""
     }
    },
    "d3f5a1c4276b4d20beb2649cf2ab8d5a": {
     "model_module": "@jupyter-widgets/controls",
     "model_module_version": "1.5.0",
     "model_name": "HTMLModel",
     "state": {
      "_dom_classes": [],
      "_model_module": "@jupyter-widgets/controls",
      "_model_module_version": "1.5.0",
      "_model_name": "HTMLModel",
      "_view_count": null,
      "_view_module": "@jupyter-widgets/controls",
      "_view_module_version": "1.5.0",
      "_view_name": "HTMLView",
      "description": "",
      "description_tooltip": null,
      "layout": "IPY_MODEL_34e5144fa2494bb39a8d2345b89bcdb2",
      "placeholder": "​",
      "style": "IPY_MODEL_1f345b1866a4480da6ac1b94612ddc0d",
      "value": " 570/570 [00:00&lt;00:00, 34.8kB/s]"
     }
    },
    "d466dd58c08e4210b03d44828a7512cc": {
     "model_module": "@jupyter-widgets/controls",
     "model_module_version": "1.5.0",
     "model_name": "DescriptionStyleModel",
     "state": {
      "_model_module": "@jupyter-widgets/controls",
      "_model_module_version": "1.5.0",
      "_model_name": "DescriptionStyleModel",
      "_view_count": null,
      "_view_module": "@jupyter-widgets/base",
      "_view_module_version": "1.2.0",
      "_view_name": "StyleView",
      "description_width": ""
     }
    },
    "d5b250598f7b41f9b91192d4fd447d6b": {
     "model_module": "@jupyter-widgets/base",
     "model_module_version": "1.2.0",
     "model_name": "LayoutModel",
     "state": {
      "_model_module": "@jupyter-widgets/base",
      "_model_module_version": "1.2.0",
      "_model_name": "LayoutModel",
      "_view_count": null,
      "_view_module": "@jupyter-widgets/base",
      "_view_module_version": "1.2.0",
      "_view_name": "LayoutView",
      "align_content": null,
      "align_items": null,
      "align_self": null,
      "border": null,
      "bottom": null,
      "display": null,
      "flex": null,
      "flex_flow": null,
      "grid_area": null,
      "grid_auto_columns": null,
      "grid_auto_flow": null,
      "grid_auto_rows": null,
      "grid_column": null,
      "grid_gap": null,
      "grid_row": null,
      "grid_template_areas": null,
      "grid_template_columns": null,
      "grid_template_rows": null,
      "height": null,
      "justify_content": null,
      "justify_items": null,
      "left": null,
      "margin": null,
      "max_height": null,
      "max_width": null,
      "min_height": null,
      "min_width": null,
      "object_fit": null,
      "object_position": null,
      "order": null,
      "overflow": null,
      "overflow_x": null,
      "overflow_y": null,
      "padding": null,
      "right": null,
      "top": null,
      "visibility": null,
      "width": null
     }
    },
    "d67ca32e8f534ae8822fde92923bdaab": {
     "model_module": "@jupyter-widgets/base",
     "model_module_version": "1.2.0",
     "model_name": "LayoutModel",
     "state": {
      "_model_module": "@jupyter-widgets/base",
      "_model_module_version": "1.2.0",
      "_model_name": "LayoutModel",
      "_view_count": null,
      "_view_module": "@jupyter-widgets/base",
      "_view_module_version": "1.2.0",
      "_view_name": "LayoutView",
      "align_content": null,
      "align_items": null,
      "align_self": null,
      "border": null,
      "bottom": null,
      "display": null,
      "flex": null,
      "flex_flow": null,
      "grid_area": null,
      "grid_auto_columns": null,
      "grid_auto_flow": null,
      "grid_auto_rows": null,
      "grid_column": null,
      "grid_gap": null,
      "grid_row": null,
      "grid_template_areas": null,
      "grid_template_columns": null,
      "grid_template_rows": null,
      "height": null,
      "justify_content": null,
      "justify_items": null,
      "left": null,
      "margin": null,
      "max_height": null,
      "max_width": null,
      "min_height": null,
      "min_width": null,
      "object_fit": null,
      "object_position": null,
      "order": null,
      "overflow": null,
      "overflow_x": null,
      "overflow_y": null,
      "padding": null,
      "right": null,
      "top": null,
      "visibility": null,
      "width": null
     }
    },
    "da10dd28b0c7449da18c87e87cbf4df5": {
     "model_module": "@jupyter-widgets/controls",
     "model_module_version": "1.5.0",
     "model_name": "FloatProgressModel",
     "state": {
      "_dom_classes": [],
      "_model_module": "@jupyter-widgets/controls",
      "_model_module_version": "1.5.0",
      "_model_name": "FloatProgressModel",
      "_view_count": null,
      "_view_module": "@jupyter-widgets/controls",
      "_view_module_version": "1.5.0",
      "_view_name": "ProgressView",
      "bar_style": "success",
      "description": "",
      "description_tooltip": null,
      "layout": "IPY_MODEL_8c3e885892c4493d9970afdc115508a0",
      "max": 435797,
      "min": 0,
      "orientation": "horizontal",
      "style": "IPY_MODEL_173aaa971b1840e8b793ddc50d044bbc",
      "value": 435797
     }
    },
    "e21a90eb7767496e8279607e703610b1": {
     "model_module": "@jupyter-widgets/controls",
     "model_module_version": "1.5.0",
     "model_name": "HTMLModel",
     "state": {
      "_dom_classes": [],
      "_model_module": "@jupyter-widgets/controls",
      "_model_module_version": "1.5.0",
      "_model_name": "HTMLModel",
      "_view_count": null,
      "_view_module": "@jupyter-widgets/controls",
      "_view_module_version": "1.5.0",
      "_view_name": "HTMLView",
      "description": "",
      "description_tooltip": null,
      "layout": "IPY_MODEL_831b9745569c4ea8997cde66e5808bc2",
      "placeholder": "​",
      "style": "IPY_MODEL_647925c5c7fb4c6198c0f3c63bf9ba46",
      "value": "Downloading: 100%"
     }
    },
    "e89fc3918de34552bde59e7ab8ff41aa": {
     "model_module": "@jupyter-widgets/base",
     "model_module_version": "1.2.0",
     "model_name": "LayoutModel",
     "state": {
      "_model_module": "@jupyter-widgets/base",
      "_model_module_version": "1.2.0",
      "_model_name": "LayoutModel",
      "_view_count": null,
      "_view_module": "@jupyter-widgets/base",
      "_view_module_version": "1.2.0",
      "_view_name": "LayoutView",
      "align_content": null,
      "align_items": null,
      "align_self": null,
      "border": null,
      "bottom": null,
      "display": null,
      "flex": null,
      "flex_flow": null,
      "grid_area": null,
      "grid_auto_columns": null,
      "grid_auto_flow": null,
      "grid_auto_rows": null,
      "grid_column": null,
      "grid_gap": null,
      "grid_row": null,
      "grid_template_areas": null,
      "grid_template_columns": null,
      "grid_template_rows": null,
      "height": null,
      "justify_content": null,
      "justify_items": null,
      "left": null,
      "margin": null,
      "max_height": null,
      "max_width": null,
      "min_height": null,
      "min_width": null,
      "object_fit": null,
      "object_position": null,
      "order": null,
      "overflow": null,
      "overflow_x": null,
      "overflow_y": null,
      "padding": null,
      "right": null,
      "top": null,
      "visibility": null,
      "width": null
     }
    },
    "ea53bd27aaa249dfb75dbbddc99c8c13": {
     "model_module": "@jupyter-widgets/base",
     "model_module_version": "1.2.0",
     "model_name": "LayoutModel",
     "state": {
      "_model_module": "@jupyter-widgets/base",
      "_model_module_version": "1.2.0",
      "_model_name": "LayoutModel",
      "_view_count": null,
      "_view_module": "@jupyter-widgets/base",
      "_view_module_version": "1.2.0",
      "_view_name": "LayoutView",
      "align_content": null,
      "align_items": null,
      "align_self": null,
      "border": null,
      "bottom": null,
      "display": null,
      "flex": null,
      "flex_flow": null,
      "grid_area": null,
      "grid_auto_columns": null,
      "grid_auto_flow": null,
      "grid_auto_rows": null,
      "grid_column": null,
      "grid_gap": null,
      "grid_row": null,
      "grid_template_areas": null,
      "grid_template_columns": null,
      "grid_template_rows": null,
      "height": null,
      "justify_content": null,
      "justify_items": null,
      "left": null,
      "margin": null,
      "max_height": null,
      "max_width": null,
      "min_height": null,
      "min_width": null,
      "object_fit": null,
      "object_position": null,
      "order": null,
      "overflow": null,
      "overflow_x": null,
      "overflow_y": null,
      "padding": null,
      "right": null,
      "top": null,
      "visibility": null,
      "width": null
     }
    },
    "ee15a8dddbce4425b6c2e0cbaa84a3fd": {
     "model_module": "@jupyter-widgets/base",
     "model_module_version": "1.2.0",
     "model_name": "LayoutModel",
     "state": {
      "_model_module": "@jupyter-widgets/base",
      "_model_module_version": "1.2.0",
      "_model_name": "LayoutModel",
      "_view_count": null,
      "_view_module": "@jupyter-widgets/base",
      "_view_module_version": "1.2.0",
      "_view_name": "LayoutView",
      "align_content": null,
      "align_items": null,
      "align_self": null,
      "border": null,
      "bottom": null,
      "display": null,
      "flex": null,
      "flex_flow": null,
      "grid_area": null,
      "grid_auto_columns": null,
      "grid_auto_flow": null,
      "grid_auto_rows": null,
      "grid_column": null,
      "grid_gap": null,
      "grid_row": null,
      "grid_template_areas": null,
      "grid_template_columns": null,
      "grid_template_rows": null,
      "height": null,
      "justify_content": null,
      "justify_items": null,
      "left": null,
      "margin": null,
      "max_height": null,
      "max_width": null,
      "min_height": null,
      "min_width": null,
      "object_fit": null,
      "object_position": null,
      "order": null,
      "overflow": null,
      "overflow_x": null,
      "overflow_y": null,
      "padding": null,
      "right": null,
      "top": null,
      "visibility": null,
      "width": null
     }
    },
    "ee4fc0b2cbd74cc78cbaa6951ba4f843": {
     "model_module": "@jupyter-widgets/base",
     "model_module_version": "1.2.0",
     "model_name": "LayoutModel",
     "state": {
      "_model_module": "@jupyter-widgets/base",
      "_model_module_version": "1.2.0",
      "_model_name": "LayoutModel",
      "_view_count": null,
      "_view_module": "@jupyter-widgets/base",
      "_view_module_version": "1.2.0",
      "_view_name": "LayoutView",
      "align_content": null,
      "align_items": null,
      "align_self": null,
      "border": null,
      "bottom": null,
      "display": null,
      "flex": null,
      "flex_flow": null,
      "grid_area": null,
      "grid_auto_columns": null,
      "grid_auto_flow": null,
      "grid_auto_rows": null,
      "grid_column": null,
      "grid_gap": null,
      "grid_row": null,
      "grid_template_areas": null,
      "grid_template_columns": null,
      "grid_template_rows": null,
      "height": null,
      "justify_content": null,
      "justify_items": null,
      "left": null,
      "margin": null,
      "max_height": null,
      "max_width": null,
      "min_height": null,
      "min_width": null,
      "object_fit": null,
      "object_position": null,
      "order": null,
      "overflow": null,
      "overflow_x": null,
      "overflow_y": null,
      "padding": null,
      "right": null,
      "top": null,
      "visibility": null,
      "width": null
     }
    },
    "f845f8eabb9d4b059a9af0d513e03798": {
     "model_module": "@jupyter-widgets/controls",
     "model_module_version": "1.5.0",
     "model_name": "ProgressStyleModel",
     "state": {
      "_model_module": "@jupyter-widgets/controls",
      "_model_module_version": "1.5.0",
      "_model_name": "ProgressStyleModel",
      "_view_count": null,
      "_view_module": "@jupyter-widgets/base",
      "_view_module_version": "1.2.0",
      "_view_name": "StyleView",
      "bar_color": null,
      "description_width": ""
     }
    },
    "f9d572d970ba49299c0df59c40e29548": {
     "model_module": "@jupyter-widgets/controls",
     "model_module_version": "1.5.0",
     "model_name": "FloatProgressModel",
     "state": {
      "_dom_classes": [],
      "_model_module": "@jupyter-widgets/controls",
      "_model_module_version": "1.5.0",
      "_model_name": "FloatProgressModel",
      "_view_count": null,
      "_view_module": "@jupyter-widgets/controls",
      "_view_module_version": "1.5.0",
      "_view_name": "ProgressView",
      "bar_style": "success",
      "description": "",
      "description_tooltip": null,
      "layout": "IPY_MODEL_b9ff69bbc3c643bc9746edf487345645",
      "max": 29,
      "min": 0,
      "orientation": "horizontal",
      "style": "IPY_MODEL_3125cfae85d849c6b877de826abb48e1",
      "value": 29
     }
    },
    "fab0fa0eabcd478c9e1f34fd5abc49da": {
     "model_module": "@jupyter-widgets/controls",
     "model_module_version": "1.5.0",
     "model_name": "HTMLModel",
     "state": {
      "_dom_classes": [],
      "_model_module": "@jupyter-widgets/controls",
      "_model_module_version": "1.5.0",
      "_model_name": "HTMLModel",
      "_view_count": null,
      "_view_module": "@jupyter-widgets/controls",
      "_view_module_version": "1.5.0",
      "_view_name": "HTMLView",
      "description": "",
      "description_tooltip": null,
      "layout": "IPY_MODEL_771f1304c44e406c98e97d49a94627f2",
      "placeholder": "​",
      "style": "IPY_MODEL_d466dd58c08e4210b03d44828a7512cc",
      "value": " 29.0/29.0 [00:00&lt;00:00, 1.31kB/s]"
     }
    }
   }
  }
 },
 "nbformat": 4,
 "nbformat_minor": 1
}
